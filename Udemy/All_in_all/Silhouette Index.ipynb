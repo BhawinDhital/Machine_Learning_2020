{
 "cells": [
  {
   "cell_type": "markdown",
   "metadata": {},
   "source": [
    "### Silhouette Index"
   ]
  },
  {
   "cell_type": "code",
   "execution_count": 2,
   "metadata": {},
   "outputs": [
    {
     "name": "stdout",
     "output_type": "stream",
     "text": [
      "2 0.2968969162503008\n",
      "3 0.46761358158775435\n",
      "4 0.4931963109249047\n",
      "5 0.553931997444648\n",
      "6 0.5379675585622219\n",
      "7 0.5288104473798049\n",
      "8 0.45924987052000815\n",
      "9 0.4565077334305076\n",
      "10 0.45056557470336733\n",
      "11 0.437841976811071\n",
      "12 0.4237175596671194\n",
      "13 0.4211574151725363\n",
      "14 0.41599158155673244\n",
      "15 0.43212006235899736\n"
     ]
    }
   ],
   "source": [
    "import pandas as pd\n",
    "dataset = pd.read_csv(\"Mall_Customers.csv\")\n",
    "X = dataset.iloc[:, [3,4]].values\n",
    "from sklearn.cluster import KMeans\n",
    "from sklearn.metrics import silhouette_score\n",
    "noofclus = 16\n",
    "\n",
    "\n",
    "for i in range(2, noofclus):\n",
    "    k_means = KMeans(n_clusters = i, init = 'k-means++', random_state = 42)\n",
    "    k_means.fit(X)\n",
    "    labels = k_means.predict(X)\n",
    "    print(i, silhouette_score(X, labels))\n",
    "\n"
   ]
  },
  {
   "cell_type": "markdown",
   "metadata": {},
   "source": [
    "Silhouette index close to 1 is good. It means in the above example, the index value 0.5539 for no of clusters 5 is appropriate."
   ]
  },
  {
   "cell_type": "code",
   "execution_count": null,
   "metadata": {},
   "outputs": [],
   "source": []
  }
 ],
 "metadata": {
  "kernelspec": {
   "display_name": "Python 3",
   "language": "python",
   "name": "python3"
  },
  "language_info": {
   "codemirror_mode": {
    "name": "ipython",
    "version": 3
   },
   "file_extension": ".py",
   "mimetype": "text/x-python",
   "name": "python",
   "nbconvert_exporter": "python",
   "pygments_lexer": "ipython3",
   "version": "3.8.3"
  }
 },
 "nbformat": 4,
 "nbformat_minor": 4
}
