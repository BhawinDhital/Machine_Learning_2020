{
 "cells": [
  {
   "cell_type": "markdown",
   "metadata": {},
   "source": [
    "#### Implementation of OR-gate / Sigmoid function"
   ]
  },
  {
   "cell_type": "code",
   "execution_count": 3,
   "metadata": {},
   "outputs": [
    {
     "name": "stdout",
     "output_type": "stream",
     "text": [
      "Enter first input\n",
      "0\n",
      "Enter second input\n",
      "1\n",
      "0 or 1 is:   1\n"
     ]
    }
   ],
   "source": [
    "#Initialize Learning rate, bias and weights\n",
    "lr = 1\n",
    "bias = 1\n",
    "weights = [-50, 20, 20]\n",
    "\n",
    "#perceptron(x_1, x_2, output) \n",
    "def perceptron(x_1, x_2, output):\n",
    "    outputP = bias*weights[0] + x_1*weights[1] + x_2*weights[2]\n",
    "    if outputP > 4.6:\n",
    "        outputP = 1\n",
    "    else:\n",
    "        outputP = 0\n",
    "    error = 1/2*(outputP - output)**2\n",
    "    weights[0] = weights[0] + error*bias*lr\n",
    "    weights[1] = weights[1] + error*x_1*lr\n",
    "    weights[2] = weights[2] + error*x_2*lr\n",
    "\n",
    "#predict(x_1, x_2)\n",
    "def predict(x_1, x_2):\n",
    "    outputP = bias*weights[0] + x_1*weights[1] + x_2*weights[2]\n",
    "    if outputP > 4.6:\n",
    "        outputP = 1\n",
    "    else:\n",
    "        outputP = 0\n",
    "    return outputP\n",
    "\n",
    "\n",
    "#Call perceptron for each row of OR gate\n",
    "#Run in Loop for multiple times to train the Network\n",
    "for i in range(50):\n",
    "    perceptron(0,0,0)\n",
    "    perceptron(0,1,1)\n",
    "    perceptron(1,0,1)\n",
    "    perceptron(1,1,1)    \n",
    "\n",
    "#Take Input values from user to predict the value \n",
    "print(\"Enter first input\")\n",
    "x_1 = int(input())\n",
    "print(\"Enter second input\")\n",
    "x_2 = int(input())\n",
    "output_predict = predict(x_1,x_2)\n",
    "print(x_1, \"or\", x_2, \"is:  \", output_predict)"
   ]
  },
  {
   "cell_type": "code",
   "execution_count": null,
   "metadata": {},
   "outputs": [],
   "source": []
  }
 ],
 "metadata": {
  "kernelspec": {
   "display_name": "Python 3",
   "language": "python",
   "name": "python3"
  },
  "language_info": {
   "codemirror_mode": {
    "name": "ipython",
    "version": 3
   },
   "file_extension": ".py",
   "mimetype": "text/x-python",
   "name": "python",
   "nbconvert_exporter": "python",
   "pygments_lexer": "ipython3",
   "version": "3.8.3"
  }
 },
 "nbformat": 4,
 "nbformat_minor": 4
}
