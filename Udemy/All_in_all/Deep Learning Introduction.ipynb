{
 "cells": [
  {
   "cell_type": "markdown",
   "metadata": {},
   "source": [
    "Bigger the data, it will be difficult to handle using the old traditional machine learning. SO, we need Deep Learning Algorithms."
   ]
  },
  {
   "cell_type": "markdown",
   "metadata": {},
   "source": [
    "For large numbers of features in the given data, we will have more quadratic terms to deal with. It means the data will be more complicated and entangled with each other."
   ]
  },
  {
   "cell_type": "markdown",
   "metadata": {},
   "source": [
    "### Deep Learning\n",
    "Deep Learning is a part of a boarder family of machine learning methods based on artificial neural networks.\n",
    "\n",
    "[Deep Learning](https://en.wikipedia.org/wiki/Deep_learning)"
   ]
  },
  {
   "cell_type": "markdown",
   "metadata": {},
   "source": [
    "### Some Applications of Deep Learning\n",
    "1.Self driving cars\n",
    "\n",
    "2.Automatic hand writing generation\n",
    "\n",
    "3.Face Detection\n",
    "\n",
    "4.Language translation etc"
   ]
  },
  {
   "cell_type": "markdown",
   "metadata": {},
   "source": [
    "### Artificial Neural Network\n",
    "Implementation of Deep Learning."
   ]
  },
  {
   "cell_type": "markdown",
   "metadata": {},
   "source": [
    "#### Hidden layers\n",
    "How to calculate the number of hidden layers?"
   ]
  },
  {
   "cell_type": "markdown",
   "metadata": {},
   "source": [
    "##### Activation Function\n",
    "Determines whether it should be activated or not based on whether each neuron's input is relevant for the model's prediction."
   ]
  },
  {
   "cell_type": "markdown",
   "metadata": {},
   "source": [
    "Some Activation Functions are : Linear function, Step Function, Sigmoid Function."
   ]
  },
  {
   "cell_type": "markdown",
   "metadata": {},
   "source": [
    "### Forward and Backward Propagation\n",
    "Forward : Left to right\n",
    "\n",
    "Backward : Right to Left"
   ]
  },
  {
   "cell_type": "markdown",
   "metadata": {},
   "source": [
    "Cost = error = 1/2 (ypred - yactual)^2"
   ]
  },
  {
   "cell_type": "markdown",
   "metadata": {},
   "source": [
    "Weight = weight + Error*LearningRate*Input"
   ]
  },
  {
   "cell_type": "markdown",
   "metadata": {},
   "source": [
    "Network can be trained with Biases as 0 but Weights can't be zero"
   ]
  },
  {
   "cell_type": "code",
   "execution_count": null,
   "metadata": {},
   "outputs": [],
   "source": []
  }
 ],
 "metadata": {
  "kernelspec": {
   "display_name": "Python 3",
   "language": "python",
   "name": "python3"
  },
  "language_info": {
   "codemirror_mode": {
    "name": "ipython",
    "version": 3
   },
   "file_extension": ".py",
   "mimetype": "text/x-python",
   "name": "python",
   "nbconvert_exporter": "python",
   "pygments_lexer": "ipython3",
   "version": "3.8.3"
  }
 },
 "nbformat": 4,
 "nbformat_minor": 4
}
