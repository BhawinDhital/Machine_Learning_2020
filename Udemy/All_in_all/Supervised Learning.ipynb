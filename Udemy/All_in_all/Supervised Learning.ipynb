{
 "cells": [
  {
   "cell_type": "markdown",
   "metadata": {},
   "source": [
    "### Decision Tree\n",
    "[Decision tree](https://www.geeksforgeeks.org/decision-tree-introduction-example/)"
   ]
  },
  {
   "cell_type": "markdown",
   "metadata": {},
   "source": [
    "It is a tree like data structure to make a model of the data. It uses else-if at every node of the data. It can be used for both classification and regression analysis of the data."
   ]
  },
  {
   "cell_type": "code",
   "execution_count": 2,
   "metadata": {},
   "outputs": [
    {
     "name": "stdout",
     "output_type": "stream",
     "text": [
      "0.9998989170648211\n",
      "0.9993590976094341\n"
     ]
    }
   ],
   "source": [
    "# Importing the libraries\n",
    "import numpy as np\n",
    "import matplotlib.pyplot as plt\n",
    "import pandas as pd\n",
    "\n",
    "dataset = pd.read_csv('Job_Exp.csv')\n",
    "X = dataset.iloc[:, [0]].values\n",
    "y = dataset.iloc[:, 1].values\n",
    "\n",
    "from sklearn.model_selection import train_test_split\n",
    "X_train, X_test, y_train, y_test = train_test_split(X, y, test_size = 0.25, random_state = 0)\n",
    "\n",
    "from sklearn.tree import DecisionTreeRegressor\n",
    "dt_r = DecisionTreeRegressor(random_state = 42)\n",
    "dt_r.fit(X_train, y_train)\n",
    "\n",
    "print(dt_r.score(X_train, y_train))\n",
    "\n",
    "y_pred = dt_r.predict(X_test)\n",
    "\n",
    "print(dt_r.score(X_test, y_test))"
   ]
  },
  {
   "cell_type": "code",
   "execution_count": 3,
   "metadata": {},
   "outputs": [
    {
     "data": {
      "image/png": "[encoded data removed]",
      "text/plain": [
       "<Figure size 432x288 with 1 Axes>"
      ]
     },
     "metadata": {
      "needs_background": "light"
     },
     "output_type": "display_data"
    }
   ],
   "source": [
    "#Graph \n",
    "X_dt = np.arange(min(X), max(X), 0.1)\n",
    "X_dt = X_dt.reshape(len(X_dt), 1)\n",
    "plt.scatter(X, y, color = 'black')\n",
    "plt.plot(X_dt, dt_r.predict(X_dt), color = 'red' )\n",
    "plt.ylabel('Getting Job chance (%)')\n",
    "plt.xlabel('years of Exp')\n",
    "plt.show()"
   ]
  },
  {
   "cell_type": "markdown",
   "metadata": {},
   "source": [
    "### Decision Tree "
   ]
  },
  {
   "cell_type": "code",
   "execution_count": 4,
   "metadata": {},
   "outputs": [
    {
     "name": "stdout",
     "output_type": "stream",
     "text": [
      "1.0\n",
      "1.0\n"
     ]
    },
    {
     "data": {
      "image/png": "[encoded data removed]",
      "text/plain": [
       "<Figure size 432x288 with 1 Axes>"
      ]
     },
     "metadata": {
      "needs_background": "light"
     },
     "output_type": "display_data"
    }
   ],
   "source": [
    "#Import libraries\n",
    "import numpy as np\n",
    "import matplotlib.pyplot as plt\n",
    "import pandas as pd\n",
    "\n",
    "# Importing the dataset\n",
    "dataset = pd.read_csv('Apply_Job.csv')\n",
    "\n",
    "X = dataset.iloc[:, 0:2].values\n",
    "y = dataset.iloc[:, 2].values\n",
    "\n",
    "from sklearn.model_selection import train_test_split\n",
    "X_train, X_test, y_train, y_test = train_test_split(X, y, test_size = 0.25, random_state = 0)\n",
    "\n",
    "from sklearn.tree import DecisionTreeClassifier\n",
    "dt_c = DecisionTreeClassifier()\n",
    "dt_c.fit(X_train, y_train)\n",
    "\n",
    "from sklearn.metrics import accuracy_score\n",
    "\n",
    "pred_train = dt_c.predict(X_train)\n",
    "pred_test = dt_c.predict(X_test)\n",
    "\n",
    "train_accuracy = accuracy_score(y_train, pred_train)\n",
    "test_accuracy = accuracy_score(y_test, pred_test)\n",
    "\n",
    "print(train_accuracy)\n",
    "print(test_accuracy)\n",
    "\n",
    "from matplotlib.colors import ListedColormap\n",
    "import numpy as np\n",
    "#Define Variables\n",
    "clf = dt_c\n",
    "h = 0.01\n",
    "X_plot, z_plot = X, y\n",
    "\n",
    "#Standard Template to draw graph\n",
    "x_min, x_max = X_plot[:, 0].min() - 1, X_plot[:, 0].max() + 1\n",
    "y_min, y_max = X_plot[:, 1].min() - 1, X_plot[:, 1].max() + 1\n",
    "xx, yy = np.meshgrid(np.arange(x_min, x_max, h),\n",
    "                     np.arange(y_min, y_max, h))\n",
    "\n",
    "\n",
    "# Plot the decision boundary. For that, we will assign a color to each\n",
    "# point in the mesh\n",
    "Z = clf.predict(np.array([xx.ravel(), yy.ravel()]).T)\n",
    "Z = Z.reshape(xx.shape)\n",
    "plt.contourf(xx, yy, Z,\n",
    "             alpha = 0.7, cmap = ListedColormap(('red', 'green')))\n",
    "\n",
    "\n",
    "for i, j in enumerate(np.unique(z_plot)):\n",
    "    plt.scatter(X_plot[z_plot == j, 0], X_plot[z_plot == j, 1],\n",
    "                c = ['red', 'green'][i], cmap = ListedColormap(('red', 'green')), label = j)\n",
    "   #X[:, 0], X[:, 1] \n",
    "plt.xlim(xx.min(), xx.max())\n",
    "plt.ylim(yy.min(), yy.max())\n",
    "plt.title('Decision Tree Classification')\n",
    "plt.xlabel('years of exp')\n",
    "plt.ylabel('salary in lakh')\n",
    "plt.legend()\n",
    "\n",
    "plt.show()"
   ]
  },
  {
   "cell_type": "code",
   "execution_count": null,
   "metadata": {},
   "outputs": [],
   "source": []
  }
 ],
 "metadata": {
  "kernelspec": {
   "display_name": "Python 3",
   "language": "python",
   "name": "python3"
  },
  "language_info": {
   "codemirror_mode": {
    "name": "ipython",
    "version": 3
   },
   "file_extension": ".py",
   "mimetype": "text/x-python",
   "name": "python",
   "nbconvert_exporter": "python",
   "pygments_lexer": "ipython3",
   "version": "3.8.3"
  }
 },
 "nbformat": 4,
 "nbformat_minor": 4
}
