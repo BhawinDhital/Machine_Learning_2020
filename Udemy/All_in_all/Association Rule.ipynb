{
 "cells": [
  {
   "cell_type": "markdown",
   "metadata": {},
   "source": [
    "### Support, Confidence and Lift\n"
   ]
  },
  {
   "cell_type": "code",
   "execution_count": 5,
   "metadata": {},
   "outputs": [
    {
     "name": "stdout",
     "output_type": "stream",
     "text": [
      "Collecting apyori\n",
      "  Downloading apyori-1.1.2.tar.gz (8.6 kB)\n",
      "Building wheels for collected packages: apyori\n",
      "  Building wheel for apyori (setup.py) ... \u001b[?25ldone\n",
      "\u001b[?25h  Created wheel for apyori: filename=apyori-1.1.2-py3-none-any.whl size=5974 sha256=2f53a0f0fba6e278dc09c336423ba461ca155e481d2c0c286b179b58a7d7b146\n",
      "  Stored in directory: /Users/bhawindhital/Library/Caches/pip/wheels/1b/02/6c/a45230be8603bd95c0a51cd2b289aefdd860c1a100eab73661\n",
      "Successfully built apyori\n",
      "Installing collected packages: apyori\n",
      "Successfully installed apyori-1.1.2\n"
     ]
    }
   ],
   "source": [
    "!pip install apyori"
   ]
  },
  {
   "cell_type": "code",
   "execution_count": 8,
   "metadata": {},
   "outputs": [
    {
     "name": "stdout",
     "output_type": "stream",
     "text": [
      "RelationRecord(items=frozenset({'milk', 'whole wheat pasta'}), support=0.009865351286495135, ordered_statistics=[OrderedStatistic(items_base=frozenset({'whole wheat pasta'}), items_add=frozenset({'milk'}), confidence=0.33484162895927605, lift=2.5839990317114503)])\n"
     ]
    }
   ],
   "source": [
    "import pandas as pd\n",
    "from  apyori import apriori\n",
    "\n",
    "dataset = pd.read_csv(\"Market_Basket_Optimisation.csv\", header = None)\n",
    "X_trans = []\n",
    "for i in range(0,7501):\n",
    "    X_trans.append([str(dataset.values[i, j]) for j in range(0,20)])\n",
    "    \n",
    "asso_rules = apriori(X_trans, min_support = 0.006, min_confidence = 0.33, min_lift = 2.5, min_length = 2)\n",
    "\n",
    "asso_result = list(asso_rules)\n",
    "\n",
    "print(asso_result[0])"
   ]
  },
  {
   "cell_type": "code",
   "execution_count": 9,
   "metadata": {},
   "outputs": [
    {
     "name": "stdout",
     "output_type": "stream",
     "text": [
      "Rule: (milk, whole wheat pasta)\n",
      "Support: 0.009865351286495135\n",
      "Confidence: 0.33484162895927605\n",
      "Lift: 2.5839990317114503\n",
      "Rule: (tomato sauce, spaghetti)\n",
      "Support: 0.006265831222503666\n",
      "Confidence: 0.4433962264150943\n",
      "Lift: 2.546642491837383\n",
      "Rule: (frozen vegetables, milk)\n",
      "Support: 0.007998933475536596\n",
      "Confidence: 0.34883720930232565\n",
      "Lift: 2.6920040195234\n",
      "Rule: (milk, frozen vegetables)\n",
      "Support: 0.007332355685908546\n",
      "Confidence: 0.3374233128834356\n",
      "Lift: 2.6039220884142495\n",
      "Rule: (spaghetti, eggs)\n",
      "Support: 0.008932142381015865\n",
      "Confidence: 0.4466666666666667\n",
      "Lift: 2.565426237876468\n",
      "Rule: (frozen vegetables, spaghetti)\n",
      "Support: 0.008665511265164644\n",
      "Confidence: 0.5118110236220472\n",
      "Lift: 2.939582303360625\n",
      "Rule: (herb & pepper, ground beef)\n",
      "Support: 0.006665777896280496\n",
      "Confidence: 0.39062500000000006\n",
      "Lift: 3.975682666214383\n",
      "Rule: (spaghetti, herb & pepper)\n",
      "Support: 0.006399146780429276\n",
      "Confidence: 0.3934426229508197\n",
      "Lift: 4.004359721511667\n",
      "Rule: (spaghetti, milk)\n",
      "Support: 0.009732035728569524\n",
      "Confidence: 0.44242424242424244\n",
      "Lift: 2.5410599099726205\n",
      "Rule: (spaghetti, ground beef)\n",
      "Support: 0.006399146780429276\n",
      "Confidence: 0.44036697247706424\n",
      "Lift: 2.5292439973586975\n",
      "Rule: (milk, shrimp)\n",
      "Support: 0.007865617917610986\n",
      "Confidence: 0.3333333333333333\n",
      "Lift: 2.5723593964334706\n",
      "Rule: (soup, milk)\n",
      "Support: 0.008532195707239034\n",
      "Confidence: 0.3699421965317919\n",
      "Lift: 2.8548728561573777\n",
      "Rule: (milk, nan)\n",
      "Support: 0.009865351286495135\n",
      "Confidence: 0.33484162895927605\n",
      "Lift: 2.5839990317114503\n",
      "Rule: (tomato sauce, spaghetti)\n",
      "Support: 0.006265831222503666\n",
      "Confidence: 0.4433962264150943\n",
      "Lift: 2.546642491837383\n",
      "Rule: (frozen vegetables, milk)\n",
      "Support: 0.007998933475536596\n",
      "Confidence: 0.34883720930232565\n",
      "Lift: 2.6920040195234\n",
      "Rule: (milk, frozen vegetables)\n",
      "Support: 0.007332355685908546\n",
      "Confidence: 0.3374233128834356\n",
      "Lift: 2.6039220884142495\n",
      "Rule: (spaghetti, eggs)\n",
      "Support: 0.008932142381015865\n",
      "Confidence: 0.4466666666666667\n",
      "Lift: 2.565426237876468\n",
      "Rule: (frozen vegetables, spaghetti)\n",
      "Support: 0.008665511265164644\n",
      "Confidence: 0.5118110236220472\n",
      "Lift: 2.939582303360625\n",
      "Rule: (herb & pepper, nan)\n",
      "Support: 0.006665777896280496\n",
      "Confidence: 0.39062500000000006\n",
      "Lift: 3.975682666214383\n",
      "Rule: (spaghetti, herb & pepper)\n",
      "Support: 0.006399146780429276\n",
      "Confidence: 0.3934426229508197\n",
      "Lift: 4.004359721511667\n",
      "Rule: (spaghetti, milk)\n",
      "Support: 0.009732035728569524\n",
      "Confidence: 0.44242424242424244\n",
      "Lift: 2.5410599099726205\n",
      "Rule: (spaghetti, nan)\n",
      "Support: 0.006399146780429276\n",
      "Confidence: 0.44036697247706424\n",
      "Lift: 2.5292439973586975\n",
      "Rule: (milk, nan)\n",
      "Support: 0.007865617917610986\n",
      "Confidence: 0.3333333333333333\n",
      "Lift: 2.5723593964334706\n",
      "Rule: (soup, milk)\n",
      "Support: 0.008532195707239034\n",
      "Confidence: 0.3699421965317919\n",
      "Lift: 2.8548728561573777\n"
     ]
    }
   ],
   "source": [
    "for item in asso_result:\n",
    "    item_pair = []\n",
    "    for i in item[0]:\n",
    "        item_pair.append(i)\n",
    "    print(\"Rule: ({0}, {1})\".format(item_pair[0], item_pair[1]))\n",
    "    print(\"Support: {0}\".format(item[1]))\n",
    "    print(\"Confidence: {0}\".format(item[2][0][2]))\n",
    "    print(\"Lift: {0}\".format(item[2][0][3]))"
   ]
  },
  {
   "cell_type": "code",
   "execution_count": null,
   "metadata": {},
   "outputs": [],
   "source": []
  }
 ],
 "metadata": {
  "kernelspec": {
   "display_name": "Python 3",
   "language": "python",
   "name": "python3"
  },
  "language_info": {
   "codemirror_mode": {
    "name": "ipython",
    "version": 3
   },
   "file_extension": ".py",
   "mimetype": "text/x-python",
   "name": "python",
   "nbconvert_exporter": "python",
   "pygments_lexer": "ipython3",
   "version": "3.8.3"
  }
 },
 "nbformat": 4,
 "nbformat_minor": 4
}
